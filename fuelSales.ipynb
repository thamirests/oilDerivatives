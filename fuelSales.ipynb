{
  "nbformat": 4,
  "nbformat_minor": 0,
  "metadata": {
    "colab": {
      "provenance": [],
      "mount_file_id": "1SbsfrfyL5bHp2UK7w33k7D2RHOLrOua4",
      "authorship_tag": "ABX9TyPGvx07jmUvmuKNL5hpZ1Kr",
      "include_colab_link": true
    },
    "kernelspec": {
      "name": "python3",
      "display_name": "Python 3"
    },
    "language_info": {
      "name": "python"
    }
  },
  "cells": [
    {
      "cell_type": "markdown",
      "metadata": {
        "id": "view-in-github",
        "colab_type": "text"
      },
      "source": [
        "<a href=\"https://colab.research.google.com/github/thamirests/oilDerivatives/blob/main/fuelSales.ipynb\" target=\"_parent\"><img src=\"https://colab.research.google.com/assets/colab-badge.svg\" alt=\"Open In Colab\"/></a>"
      ]
    },
    {
      "cell_type": "code",
      "source": [
        "from google.colab import drive\n",
        "drive.mount('/content/drive/')"
      ],
      "metadata": {
        "colab": {
          "base_uri": "https://localhost:8080/"
        },
        "id": "kzj-SYnzYg93",
        "outputId": "04e320eb-4168-49a8-aa61-b5e529e0e64c"
      },
      "execution_count": null,
      "outputs": [
        {
          "output_type": "stream",
          "name": "stdout",
          "text": [
            "Drive already mounted at /content/drive/; to attempt to forcibly remount, call drive.mount(\"/content/drive/\", force_remount=True).\n"
          ]
        }
      ]
    },
    {
      "cell_type": "code",
      "execution_count": null,
      "metadata": {
        "id": "i_xEfgues1rS"
      },
      "outputs": [],
      "source": [
        "# Fazendo download\n",
        "!wget -q https://archive.apache.org/dist/spark/spark-3.1.2/spark-3.1.2-bin-hadoop2.7.tgz\n",
        "\n",
        "# Descompactando os arquivos\n",
        "!tar xf spark-3.1.2-bin-hadoop2.7.tgz"
      ]
    },
    {
      "cell_type": "code",
      "source": [
        "# Importando a biblioteca os\n",
        "import os\n",
        "# Definindo a variável de ambiente do Java\n",
        "os.environ[\"JAVA_HOME\"] = \"/usr/lib/jvm/java-8-openjdk-amd64\"\n",
        "\n",
        "# Definindo a variável de ambiente do Spark\n",
        "os.environ[\"SPARK_HOME\"] = \"/content/spark-3.1.2-bin-hadoop2.7\"\n",
        "!pip install -q findspark\n",
        "import findspark\n",
        "findspark.init('spark-3.1.2-bin-hadoop2.7')"
      ],
      "metadata": {
        "id": "Yu9IIVaStZec"
      },
      "execution_count": null,
      "outputs": []
    },
    {
      "cell_type": "code",
      "source": [
        "#instalando bibliotecas\n",
        "!pip install pandas==1.2.0\n",
        "!pip install --upgrade xlrd\n",
        "!pip install pyspark\n",
        "!pip install xls2xlsx"
      ],
      "metadata": {
        "colab": {
          "base_uri": "https://localhost:8080/"
        },
        "id": "tpSOWwzvt91m",
        "outputId": "c2d69c86-0e69-46c4-916f-d869c4775152"
      },
      "execution_count": null,
      "outputs": [
        {
          "output_type": "stream",
          "name": "stdout",
          "text": [
            "Looking in indexes: https://pypi.org/simple, https://us-python.pkg.dev/colab-wheels/public/simple/\n",
            "Collecting pandas==1.2.0\n",
            "  Downloading pandas-1.2.0-cp37-cp37m-manylinux1_x86_64.whl (9.9 MB)\n",
            "\u001b[K     |████████████████████████████████| 9.9 MB 7.1 MB/s \n",
            "\u001b[?25hRequirement already satisfied: numpy>=1.16.5 in /usr/local/lib/python3.7/dist-packages (from pandas==1.2.0) (1.21.6)\n",
            "Requirement already satisfied: pytz>=2017.3 in /usr/local/lib/python3.7/dist-packages (from pandas==1.2.0) (2022.6)\n",
            "Requirement already satisfied: python-dateutil>=2.7.3 in /usr/local/lib/python3.7/dist-packages (from pandas==1.2.0) (2.8.2)\n",
            "Requirement already satisfied: six>=1.5 in /usr/local/lib/python3.7/dist-packages (from python-dateutil>=2.7.3->pandas==1.2.0) (1.15.0)\n",
            "Installing collected packages: pandas\n",
            "  Attempting uninstall: pandas\n",
            "    Found existing installation: pandas 1.3.5\n",
            "    Uninstalling pandas-1.3.5:\n",
            "      Successfully uninstalled pandas-1.3.5\n",
            "Successfully installed pandas-1.2.0\n",
            "Looking in indexes: https://pypi.org/simple, https://us-python.pkg.dev/colab-wheels/public/simple/\n",
            "Requirement already satisfied: xlrd in /usr/local/lib/python3.7/dist-packages (1.1.0)\n",
            "Collecting xlrd\n",
            "  Downloading xlrd-2.0.1-py2.py3-none-any.whl (96 kB)\n",
            "\u001b[K     |████████████████████████████████| 96 kB 3.7 MB/s \n",
            "\u001b[?25hInstalling collected packages: xlrd\n",
            "  Attempting uninstall: xlrd\n",
            "    Found existing installation: xlrd 1.1.0\n",
            "    Uninstalling xlrd-1.1.0:\n",
            "      Successfully uninstalled xlrd-1.1.0\n",
            "Successfully installed xlrd-2.0.1\n",
            "Looking in indexes: https://pypi.org/simple, https://us-python.pkg.dev/colab-wheels/public/simple/\n",
            "Collecting pyspark\n",
            "  Downloading pyspark-3.3.1.tar.gz (281.4 MB)\n",
            "\u001b[K     |████████████████████████████████| 281.4 MB 43 kB/s \n",
            "\u001b[?25hCollecting py4j==0.10.9.5\n",
            "  Downloading py4j-0.10.9.5-py2.py3-none-any.whl (199 kB)\n",
            "\u001b[K     |████████████████████████████████| 199 kB 24.4 MB/s \n",
            "\u001b[?25hBuilding wheels for collected packages: pyspark\n",
            "  Building wheel for pyspark (setup.py) ... \u001b[?25l\u001b[?25hdone\n",
            "  Created wheel for pyspark: filename=pyspark-3.3.1-py2.py3-none-any.whl size=281845512 sha256=d32417386cb7527fc2caa09d410212a9ca126023ea49d13274013bbf0b728695\n",
            "  Stored in directory: /root/.cache/pip/wheels/42/59/f5/79a5bf931714dcd201b26025347785f087370a10a3329a899c\n",
            "Successfully built pyspark\n",
            "Installing collected packages: py4j, pyspark\n",
            "Successfully installed py4j-0.10.9.5 pyspark-3.3.1\n",
            "Looking in indexes: https://pypi.org/simple, https://us-python.pkg.dev/colab-wheels/public/simple/\n",
            "Collecting xls2xlsx\n",
            "  Downloading xls2xlsx-0.1.5-py2.py3-none-any.whl (38 kB)\n",
            "Requirement already satisfied: PyYAML in /usr/local/lib/python3.7/dist-packages (from xls2xlsx) (6.0)\n",
            "Requirement already satisfied: beautifulsoup4 in /usr/local/lib/python3.7/dist-packages (from xls2xlsx) (4.6.3)\n",
            "Requirement already satisfied: openpyxl in /usr/local/lib/python3.7/dist-packages (from xls2xlsx) (3.0.10)\n",
            "Collecting cssutils\n",
            "  Downloading cssutils-2.6.0-py3-none-any.whl (399 kB)\n",
            "\u001b[K     |████████████████████████████████| 399 kB 29.3 MB/s \n",
            "\u001b[?25hCollecting webcolors\n",
            "  Downloading webcolors-1.12-py3-none-any.whl (9.9 kB)\n",
            "Collecting currency-symbols\n",
            "  Downloading currency_symbols-2.0.3-py3-none-any.whl (5.0 kB)\n",
            "Requirement already satisfied: requests in /usr/local/lib/python3.7/dist-packages (from xls2xlsx) (2.23.0)\n",
            "Requirement already satisfied: Pillow in /usr/local/lib/python3.7/dist-packages (from xls2xlsx) (7.1.2)\n",
            "Collecting fonttools\n",
            "  Downloading fonttools-4.38.0-py3-none-any.whl (965 kB)\n",
            "\u001b[K     |████████████████████████████████| 965 kB 49.6 MB/s \n",
            "\u001b[?25hRequirement already satisfied: xlrd in /usr/local/lib/python3.7/dist-packages (from xls2xlsx) (2.0.1)\n",
            "Requirement already satisfied: python-dateutil in /usr/local/lib/python3.7/dist-packages (from xls2xlsx) (2.8.2)\n",
            "Requirement already satisfied: importlib-metadata in /usr/local/lib/python3.7/dist-packages (from cssutils->xls2xlsx) (4.13.0)\n",
            "Requirement already satisfied: zipp>=0.5 in /usr/local/lib/python3.7/dist-packages (from importlib-metadata->cssutils->xls2xlsx) (3.10.0)\n",
            "Requirement already satisfied: typing-extensions>=3.6.4 in /usr/local/lib/python3.7/dist-packages (from importlib-metadata->cssutils->xls2xlsx) (4.1.1)\n",
            "Requirement already satisfied: et-xmlfile in /usr/local/lib/python3.7/dist-packages (from openpyxl->xls2xlsx) (1.1.0)\n",
            "Requirement already satisfied: six>=1.5 in /usr/local/lib/python3.7/dist-packages (from python-dateutil->xls2xlsx) (1.15.0)\n",
            "Requirement already satisfied: urllib3!=1.25.0,!=1.25.1,<1.26,>=1.21.1 in /usr/local/lib/python3.7/dist-packages (from requests->xls2xlsx) (1.24.3)\n",
            "Requirement already satisfied: idna<3,>=2.5 in /usr/local/lib/python3.7/dist-packages (from requests->xls2xlsx) (2.10)\n",
            "Requirement already satisfied: certifi>=2017.4.17 in /usr/local/lib/python3.7/dist-packages (from requests->xls2xlsx) (2022.9.24)\n",
            "Requirement already satisfied: chardet<4,>=3.0.2 in /usr/local/lib/python3.7/dist-packages (from requests->xls2xlsx) (3.0.4)\n",
            "Installing collected packages: webcolors, fonttools, currency-symbols, cssutils, xls2xlsx\n",
            "Successfully installed cssutils-2.6.0 currency-symbols-2.0.3 fonttools-4.38.0 webcolors-1.12 xls2xlsx-0.1.5\n"
          ]
        }
      ]
    },
    {
      "cell_type": "code",
      "source": [
        "from tables import table\n",
        "import pandas as pd\n",
        "import numpy as np\n",
        "import xlrd\n",
        "import pyspark as ps\n",
        "from openpyxl import load_workbook\n",
        "from pyspark.sql import SQLContext\n",
        "from pyspark.sql import SparkSession"
      ],
      "metadata": {
        "id": "V00rXpAius0o"
      },
      "execution_count": null,
      "outputs": []
    },
    {
      "cell_type": "code",
      "source": [
        "#transformando xls em xlsx\n",
        "p.save_book_as(file_name='/content/drive/MyDrive/Temp/Challenge_raizen/vendas-combustiveis-m3.xls',\n",
        "               dest_file_name='/content/drive/MyDrive/Temp/Challenge_raizen/vendas-combustiveis-m3_1.xlsx')"
      ],
      "metadata": {
        "id": "NFxLwFQj1BnZ"
      },
      "execution_count": null,
      "outputs": []
    },
    {
      "cell_type": "code",
      "source": [
        "#extraindo e mudando formato\n",
        "xls = \"/content/drive/MyDrive/Temp/Challenge_raizen/vendas-combustiveis-m3.xlsx\"\n",
        "oilDerivatives = pd.read_excel(xls, sheet_name=\"DPCache_m3\")\n",
        "productUf=pd.melt(oilDerivatives, id_vars =['ANO','COMBUSTÍVEL', 'ESTADO'], value_vars =['Jan', 'Fev', 'Mar','Abr', 'Mai', 'Jun', 'Ago', 'Set', 'Out', 'Nov', 'Dez'],var_name ='Mes', value_name ='Volume')"
      ],
      "metadata": {
        "id": "3uCBRmDw06Wg"
      },
      "execution_count": null,
      "outputs": []
    },
    {
      "cell_type": "code",
      "source": [
        "#diesel\n",
        "diesel=oilDerivatives[oilDerivatives['COMBUSTÍVEL'].str.contains(\"DIESEL\")]\n",
        "diesel=diesel.pivot_table(values = 'TOTAL', index = 'COMBUSTÍVEL', columns = 'ESTADO', aggfunc='sum')"
      ],
      "metadata": {
        "id": "s222hhiaIJP6"
      },
      "execution_count": null,
      "outputs": []
    },
    {
      "cell_type": "code",
      "source": [
        "#formatando dataframe\n",
        "productUf['Unit'] = productUf['COMBUSTÍVEL'].apply(lambda st: st[st.find(\"(\")+1:st.find(\")\")])\n",
        "productUf['year_month'] = productUf['ANO'].astype(str) +'/'+ productUf['Mes']\n",
        "productUf.drop(['ANO','Mes'], axis=1, inplace=True)\n",
        "productUf[['year_month','ESTADO','COMBUSTÍVEL', 'Unit', 'Volume']]"
      ],
      "metadata": {
        "colab": {
          "base_uri": "https://localhost:8080/",
          "height": 423
        },
        "id": "Z5rE77VE_Ok5",
        "outputId": "59509740-2d84-4702-a70f-f013c4b32544"
      },
      "execution_count": null,
      "outputs": [
        {
          "output_type": "execute_result",
          "data": {
            "text/plain": [
              "      year_month              ESTADO      COMBUSTÍVEL Unit         Volume\n",
              "0       2000/Jan            RONDÔNIA  GASOLINA C (m3)   m3  136073.253000\n",
              "1       2000/Jan                ACRE  GASOLINA C (m3)   m3    3358.346000\n",
              "2       2000/Jan            AMAZONAS  GASOLINA C (m3)   m3   20766.918000\n",
              "3       2000/Jan             RORAIMA  GASOLINA C (m3)   m3    3716.032000\n",
              "4       2000/Jan                PARÁ  GASOLINA C (m3)   m3   29755.907000\n",
              "...          ...                 ...              ...  ...            ...\n",
              "49891   2020/Dez   RIO GRANDE DO SUL         GLP (m3)   m3   64045.161232\n",
              "49892   2020/Dez  MATO GROSSO DO SUL         GLP (m3)   m3   16281.139493\n",
              "49893   2020/Dez         MATO GROSSO         GLP (m3)   m3   18321.987319\n",
              "49894   2020/Dez               GOIÁS         GLP (m3)   m3   46850.585145\n",
              "49895   2020/Dez    DISTRITO FEDERAL         GLP (m3)   m3  133282.702899\n",
              "\n",
              "[49896 rows x 5 columns]"
            ],
            "text/html": [
              "\n",
              "  <div id=\"df-060029aa-8a11-4213-9d99-f0a18bbae59d\">\n",
              "    <div class=\"colab-df-container\">\n",
              "      <div>\n",
              "<style scoped>\n",
              "    .dataframe tbody tr th:only-of-type {\n",
              "        vertical-align: middle;\n",
              "    }\n",
              "\n",
              "    .dataframe tbody tr th {\n",
              "        vertical-align: top;\n",
              "    }\n",
              "\n",
              "    .dataframe thead th {\n",
              "        text-align: right;\n",
              "    }\n",
              "</style>\n",
              "<table border=\"1\" class=\"dataframe\">\n",
              "  <thead>\n",
              "    <tr style=\"text-align: right;\">\n",
              "      <th></th>\n",
              "      <th>year_month</th>\n",
              "      <th>ESTADO</th>\n",
              "      <th>COMBUSTÍVEL</th>\n",
              "      <th>Unit</th>\n",
              "      <th>Volume</th>\n",
              "    </tr>\n",
              "  </thead>\n",
              "  <tbody>\n",
              "    <tr>\n",
              "      <th>0</th>\n",
              "      <td>2000/Jan</td>\n",
              "      <td>RONDÔNIA</td>\n",
              "      <td>GASOLINA C (m3)</td>\n",
              "      <td>m3</td>\n",
              "      <td>136073.253000</td>\n",
              "    </tr>\n",
              "    <tr>\n",
              "      <th>1</th>\n",
              "      <td>2000/Jan</td>\n",
              "      <td>ACRE</td>\n",
              "      <td>GASOLINA C (m3)</td>\n",
              "      <td>m3</td>\n",
              "      <td>3358.346000</td>\n",
              "    </tr>\n",
              "    <tr>\n",
              "      <th>2</th>\n",
              "      <td>2000/Jan</td>\n",
              "      <td>AMAZONAS</td>\n",
              "      <td>GASOLINA C (m3)</td>\n",
              "      <td>m3</td>\n",
              "      <td>20766.918000</td>\n",
              "    </tr>\n",
              "    <tr>\n",
              "      <th>3</th>\n",
              "      <td>2000/Jan</td>\n",
              "      <td>RORAIMA</td>\n",
              "      <td>GASOLINA C (m3)</td>\n",
              "      <td>m3</td>\n",
              "      <td>3716.032000</td>\n",
              "    </tr>\n",
              "    <tr>\n",
              "      <th>4</th>\n",
              "      <td>2000/Jan</td>\n",
              "      <td>PARÁ</td>\n",
              "      <td>GASOLINA C (m3)</td>\n",
              "      <td>m3</td>\n",
              "      <td>29755.907000</td>\n",
              "    </tr>\n",
              "    <tr>\n",
              "      <th>...</th>\n",
              "      <td>...</td>\n",
              "      <td>...</td>\n",
              "      <td>...</td>\n",
              "      <td>...</td>\n",
              "      <td>...</td>\n",
              "    </tr>\n",
              "    <tr>\n",
              "      <th>49891</th>\n",
              "      <td>2020/Dez</td>\n",
              "      <td>RIO GRANDE DO SUL</td>\n",
              "      <td>GLP (m3)</td>\n",
              "      <td>m3</td>\n",
              "      <td>64045.161232</td>\n",
              "    </tr>\n",
              "    <tr>\n",
              "      <th>49892</th>\n",
              "      <td>2020/Dez</td>\n",
              "      <td>MATO GROSSO DO SUL</td>\n",
              "      <td>GLP (m3)</td>\n",
              "      <td>m3</td>\n",
              "      <td>16281.139493</td>\n",
              "    </tr>\n",
              "    <tr>\n",
              "      <th>49893</th>\n",
              "      <td>2020/Dez</td>\n",
              "      <td>MATO GROSSO</td>\n",
              "      <td>GLP (m3)</td>\n",
              "      <td>m3</td>\n",
              "      <td>18321.987319</td>\n",
              "    </tr>\n",
              "    <tr>\n",
              "      <th>49894</th>\n",
              "      <td>2020/Dez</td>\n",
              "      <td>GOIÁS</td>\n",
              "      <td>GLP (m3)</td>\n",
              "      <td>m3</td>\n",
              "      <td>46850.585145</td>\n",
              "    </tr>\n",
              "    <tr>\n",
              "      <th>49895</th>\n",
              "      <td>2020/Dez</td>\n",
              "      <td>DISTRITO FEDERAL</td>\n",
              "      <td>GLP (m3)</td>\n",
              "      <td>m3</td>\n",
              "      <td>133282.702899</td>\n",
              "    </tr>\n",
              "  </tbody>\n",
              "</table>\n",
              "<p>49896 rows × 5 columns</p>\n",
              "</div>\n",
              "      <button class=\"colab-df-convert\" onclick=\"convertToInteractive('df-060029aa-8a11-4213-9d99-f0a18bbae59d')\"\n",
              "              title=\"Convert this dataframe to an interactive table.\"\n",
              "              style=\"display:none;\">\n",
              "        \n",
              "  <svg xmlns=\"http://www.w3.org/2000/svg\" height=\"24px\"viewBox=\"0 0 24 24\"\n",
              "       width=\"24px\">\n",
              "    <path d=\"M0 0h24v24H0V0z\" fill=\"none\"/>\n",
              "    <path d=\"M18.56 5.44l.94 2.06.94-2.06 2.06-.94-2.06-.94-.94-2.06-.94 2.06-2.06.94zm-11 1L8.5 8.5l.94-2.06 2.06-.94-2.06-.94L8.5 2.5l-.94 2.06-2.06.94zm10 10l.94 2.06.94-2.06 2.06-.94-2.06-.94-.94-2.06-.94 2.06-2.06.94z\"/><path d=\"M17.41 7.96l-1.37-1.37c-.4-.4-.92-.59-1.43-.59-.52 0-1.04.2-1.43.59L10.3 9.45l-7.72 7.72c-.78.78-.78 2.05 0 2.83L4 21.41c.39.39.9.59 1.41.59.51 0 1.02-.2 1.41-.59l7.78-7.78 2.81-2.81c.8-.78.8-2.07 0-2.86zM5.41 20L4 18.59l7.72-7.72 1.47 1.35L5.41 20z\"/>\n",
              "  </svg>\n",
              "      </button>\n",
              "      \n",
              "  <style>\n",
              "    .colab-df-container {\n",
              "      display:flex;\n",
              "      flex-wrap:wrap;\n",
              "      gap: 12px;\n",
              "    }\n",
              "\n",
              "    .colab-df-convert {\n",
              "      background-color: #E8F0FE;\n",
              "      border: none;\n",
              "      border-radius: 50%;\n",
              "      cursor: pointer;\n",
              "      display: none;\n",
              "      fill: #1967D2;\n",
              "      height: 32px;\n",
              "      padding: 0 0 0 0;\n",
              "      width: 32px;\n",
              "    }\n",
              "\n",
              "    .colab-df-convert:hover {\n",
              "      background-color: #E2EBFA;\n",
              "      box-shadow: 0px 1px 2px rgba(60, 64, 67, 0.3), 0px 1px 3px 1px rgba(60, 64, 67, 0.15);\n",
              "      fill: #174EA6;\n",
              "    }\n",
              "\n",
              "    [theme=dark] .colab-df-convert {\n",
              "      background-color: #3B4455;\n",
              "      fill: #D2E3FC;\n",
              "    }\n",
              "\n",
              "    [theme=dark] .colab-df-convert:hover {\n",
              "      background-color: #434B5C;\n",
              "      box-shadow: 0px 1px 3px 1px rgba(0, 0, 0, 0.15);\n",
              "      filter: drop-shadow(0px 1px 2px rgba(0, 0, 0, 0.3));\n",
              "      fill: #FFFFFF;\n",
              "    }\n",
              "  </style>\n",
              "\n",
              "      <script>\n",
              "        const buttonEl =\n",
              "          document.querySelector('#df-060029aa-8a11-4213-9d99-f0a18bbae59d button.colab-df-convert');\n",
              "        buttonEl.style.display =\n",
              "          google.colab.kernel.accessAllowed ? 'block' : 'none';\n",
              "\n",
              "        async function convertToInteractive(key) {\n",
              "          const element = document.querySelector('#df-060029aa-8a11-4213-9d99-f0a18bbae59d');\n",
              "          const dataTable =\n",
              "            await google.colab.kernel.invokeFunction('convertToInteractive',\n",
              "                                                     [key], {});\n",
              "          if (!dataTable) return;\n",
              "\n",
              "          const docLinkHtml = 'Like what you see? Visit the ' +\n",
              "            '<a target=\"_blank\" href=https://colab.research.google.com/notebooks/data_table.ipynb>data table notebook</a>'\n",
              "            + ' to learn more about interactive tables.';\n",
              "          element.innerHTML = '';\n",
              "          dataTable['output_type'] = 'display_data';\n",
              "          await google.colab.output.renderOutput(dataTable, element);\n",
              "          const docLink = document.createElement('div');\n",
              "          docLink.innerHTML = docLinkHtml;\n",
              "          element.appendChild(docLink);\n",
              "        }\n",
              "      </script>\n",
              "    </div>\n",
              "  </div>\n",
              "  "
            ]
          },
          "metadata": {},
          "execution_count": 21
        }
      ]
    },
    {
      "cell_type": "code",
      "source": [
        "#salvando no bucket\n",
        "\n",
        "sdf = session.write.parquet(\n",
        "    \"wasbs://<container-name>@<storage-account-name>.blob.core.windows.net/<prefix>\"\n",
        ")"
      ],
      "metadata": {
        "id": "hX1klMtX0G16"
      },
      "execution_count": null,
      "outputs": []
    }
  ]
}